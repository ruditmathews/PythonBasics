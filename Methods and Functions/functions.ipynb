{
 "cells": [
  {
   "cell_type": "markdown",
   "id": "b0ab2ee0",
   "metadata": {},
   "source": [
    "Methods and Functions"
   ]
  },
  {
   "cell_type": "code",
   "execution_count": 1,
   "id": "420dd6e8",
   "metadata": {},
   "outputs": [
    {
     "data": {
      "text/plain": [
       "[1, 2, 3, 4]"
      ]
     },
     "execution_count": 1,
     "metadata": {},
     "output_type": "execute_result"
    }
   ],
   "source": [
    "lst=[1,2,3]\n",
    "lst.append(4)\n",
    "lst"
   ]
  },
  {
   "cell_type": "code",
   "execution_count": 3,
   "id": "bec75447",
   "metadata": {},
   "outputs": [
    {
     "name": "stdout",
     "output_type": "stream",
     "text": [
      "Help on built-in function insert:\n",
      "\n",
      "insert(index, object, /) method of builtins.list instance\n",
      "    Insert object before index.\n",
      "\n"
     ]
    }
   ],
   "source": [
    "help(lst.insert)"
   ]
  },
  {
   "cell_type": "code",
   "execution_count": 4,
   "id": "4cf61b7b",
   "metadata": {},
   "outputs": [
    {
     "name": "stdout",
     "output_type": "stream",
     "text": [
      "3.13.0\n"
     ]
    }
   ],
   "source": [
    "from platform import python_version\n",
    "print(python_version())"
   ]
  },
  {
   "cell_type": "code",
   "execution_count": 10,
   "id": "33513de8",
   "metadata": {},
   "outputs": [
    {
     "data": {
      "text/plain": [
       "'hello rudit'"
      ]
     },
     "execution_count": 10,
     "metadata": {},
     "output_type": "execute_result"
    }
   ],
   "source": [
    "def fun(name):\n",
    "    '''\n",
    "    this is a sample function prints hello\n",
    "    '''\n",
    "    return (\"hello \" + name)\n",
    "    \n",
    "fun(name ='rudit')"
   ]
  },
  {
   "cell_type": "code",
   "execution_count": 6,
   "id": "3b08e956",
   "metadata": {},
   "outputs": [
    {
     "name": "stdout",
     "output_type": "stream",
     "text": [
      "ApPlE\n"
     ]
    }
   ],
   "source": [
    "t =('apple')\n",
    "lst = []\n",
    "for i,j in enumerate(t):\n",
    "    if i%2==0:\n",
    "        lst.append(j.upper())\n",
    "    else:\n",
    "        lst.append(j.lower())\n",
    "\n",
    "print(''.join(lst))      "
   ]
  },
  {
   "cell_type": "code",
   "execution_count": null,
   "id": "7d8f06c2",
   "metadata": {},
   "outputs": [],
   "source": []
  },
  {
   "cell_type": "code",
   "execution_count": 22,
   "id": "8c5863d9",
   "metadata": {},
   "outputs": [
    {
     "data": {
      "text/plain": [
       "'ApPlE'"
      ]
     },
     "execution_count": 22,
     "metadata": {},
     "output_type": "execute_result"
    }
   ],
   "source": [
    "def myfunc(a):\n",
    "    lst =[]    \n",
    "    for i,j in enumerate(a):\n",
    "            if i%2==0:\n",
    "                lst.append(j.upper())\n",
    "            else:\n",
    "                lst.append(j.lower())\n",
    "    return ''.join(lst)\n",
    "myfunc('apple')"
   ]
  },
  {
   "cell_type": "code",
   "execution_count": 1,
   "id": "705787e6",
   "metadata": {},
   "outputs": [
    {
     "name": "stdout",
     "output_type": "stream",
     "text": [
      "1\n",
      "4\n",
      "9\n",
      "16\n",
      "25\n"
     ]
    }
   ],
   "source": [
    "def square(num):\n",
    "    return num**2\n",
    "\n",
    "lst=[1,2,3,4,5]\n",
    "\n",
    "for item in map(square,lst):\n",
    "    print(item)\n"
   ]
  },
  {
   "cell_type": "code",
   "execution_count": 2,
   "id": "d3cb4de3",
   "metadata": {},
   "outputs": [
    {
     "data": {
      "text/plain": [
       "[1, 4, 9, 16, 25]"
      ]
     },
     "execution_count": 2,
     "metadata": {},
     "output_type": "execute_result"
    }
   ],
   "source": [
    "list(map(square,lst))"
   ]
  },
  {
   "cell_type": "code",
   "execution_count": 5,
   "id": "2e0a9fb3",
   "metadata": {},
   "outputs": [],
   "source": [
    "def even(num):\n",
    "    return num%2==0"
   ]
  },
  {
   "cell_type": "code",
   "execution_count": 6,
   "id": "ac23b3c6",
   "metadata": {},
   "outputs": [
    {
     "data": {
      "text/plain": [
       "[2, 4, 6]"
      ]
     },
     "execution_count": 6,
     "metadata": {},
     "output_type": "execute_result"
    }
   ],
   "source": [
    "lst=[1,2,3,4,5,6]\n",
    "list(filter(even,lst))"
   ]
  },
  {
   "cell_type": "code",
   "execution_count": 7,
   "id": "847510c3",
   "metadata": {},
   "outputs": [
    {
     "data": {
      "text/plain": [
       "[1, 4, 9, 16, 25, 36]"
      ]
     },
     "execution_count": 7,
     "metadata": {},
     "output_type": "execute_result"
    }
   ],
   "source": [
    "list(map(lambda num : num**2,lst))"
   ]
  },
  {
   "cell_type": "code",
   "execution_count": 8,
   "id": "451ea9ff",
   "metadata": {},
   "outputs": [
    {
     "data": {
      "text/plain": [
       "[2, 4, 6]"
      ]
     },
     "execution_count": 8,
     "metadata": {},
     "output_type": "execute_result"
    }
   ],
   "source": [
    "list(filter(lambda num : num%2==0,lst))"
   ]
  },
  {
   "cell_type": "code",
   "execution_count": 12,
   "id": "df1d3fc3",
   "metadata": {},
   "outputs": [
    {
     "data": {
      "text/plain": [
       "['CBA', 'ZYX', 'RQP']"
      ]
     },
     "execution_count": 12,
     "metadata": {},
     "output_type": "execute_result"
    }
   ],
   "source": [
    "\n",
    "names = ['ABC','XYZ','PQR']\n",
    "list(map(lambda num:num[::-1],names))"
   ]
  },
  {
   "cell_type": "code",
   "execution_count": null,
   "id": "b7dfc017",
   "metadata": {},
   "outputs": [],
   "source": []
  }
 ],
 "metadata": {
  "kernelspec": {
   "display_name": "Python 3",
   "language": "python",
   "name": "python3"
  },
  "language_info": {
   "codemirror_mode": {
    "name": "ipython",
    "version": 3
   },
   "file_extension": ".py",
   "mimetype": "text/x-python",
   "name": "python",
   "nbconvert_exporter": "python",
   "pygments_lexer": "ipython3",
   "version": "3.13.0"
  }
 },
 "nbformat": 4,
 "nbformat_minor": 5
}
