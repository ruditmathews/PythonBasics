{
 "cells": [
  {
   "cell_type": "markdown",
   "id": "b0ab2ee0",
   "metadata": {},
   "source": [
    "Methods and Functions"
   ]
  },
  {
   "cell_type": "code",
   "execution_count": 1,
   "id": "420dd6e8",
   "metadata": {},
   "outputs": [
    {
     "data": {
      "text/plain": [
       "[1, 2, 3, 4]"
      ]
     },
     "execution_count": 1,
     "metadata": {},
     "output_type": "execute_result"
    }
   ],
   "source": [
    "lst=[1,2,3]\n",
    "lst.append(4)\n",
    "lst"
   ]
  },
  {
   "cell_type": "code",
   "execution_count": 3,
   "id": "bec75447",
   "metadata": {},
   "outputs": [
    {
     "name": "stdout",
     "output_type": "stream",
     "text": [
      "Help on built-in function insert:\n",
      "\n",
      "insert(index, object, /) method of builtins.list instance\n",
      "    Insert object before index.\n",
      "\n"
     ]
    }
   ],
   "source": [
    "help(lst.insert)"
   ]
  },
  {
   "cell_type": "code",
   "execution_count": 4,
   "id": "4cf61b7b",
   "metadata": {},
   "outputs": [
    {
     "name": "stdout",
     "output_type": "stream",
     "text": [
      "3.13.0\n"
     ]
    }
   ],
   "source": [
    "from platform import python_version\n",
    "print(python_version())"
   ]
  },
  {
   "cell_type": "code",
   "execution_count": 10,
   "id": "33513de8",
   "metadata": {},
   "outputs": [
    {
     "data": {
      "text/plain": [
       "'hello rudit'"
      ]
     },
     "execution_count": 10,
     "metadata": {},
     "output_type": "execute_result"
    }
   ],
   "source": [
    "def fun(name):\n",
    "    '''\n",
    "    this is a sample function prints hello\n",
    "    '''\n",
    "    return (\"hello \" + name)\n",
    "    \n",
    "fun(name ='rudit')"
   ]
  },
  {
   "cell_type": "code",
   "execution_count": 6,
   "id": "3b08e956",
   "metadata": {},
   "outputs": [
    {
     "name": "stdout",
     "output_type": "stream",
     "text": [
      "ApPlE\n"
     ]
    }
   ],
   "source": [
    "t =('apple')\n",
    "lst = []\n",
    "for i,j in enumerate(t):\n",
    "    if i%2==0:\n",
    "        lst.append(j.upper())\n",
    "    else:\n",
    "        lst.append(j.lower())\n",
    "\n",
    "print(''.join(lst))      "
   ]
  },
  {
   "cell_type": "code",
   "execution_count": null,
   "id": "7d8f06c2",
   "metadata": {},
   "outputs": [],
   "source": []
  },
  {
   "cell_type": "code",
   "execution_count": 22,
   "id": "8c5863d9",
   "metadata": {},
   "outputs": [
    {
     "data": {
      "text/plain": [
       "'ApPlE'"
      ]
     },
     "execution_count": 22,
     "metadata": {},
     "output_type": "execute_result"
    }
   ],
   "source": [
    "def myfunc(a):\n",
    "    lst =[]    \n",
    "    for i,j in enumerate(a):\n",
    "            if i%2==0:\n",
    "                lst.append(j.upper())\n",
    "            else:\n",
    "                lst.append(j.lower())\n",
    "    return ''.join(lst)\n",
    "myfunc('apple')"
   ]
  },
  {
   "cell_type": "code",
   "execution_count": null,
   "id": "705787e6",
   "metadata": {},
   "outputs": [],
   "source": []
  }
 ],
 "metadata": {
  "kernelspec": {
   "display_name": "Python 3",
   "language": "python",
   "name": "python3"
  },
  "language_info": {
   "codemirror_mode": {
    "name": "ipython",
    "version": 3
   },
   "file_extension": ".py",
   "mimetype": "text/x-python",
   "name": "python",
   "nbconvert_exporter": "python",
   "pygments_lexer": "ipython3",
   "version": "3.13.0"
  }
 },
 "nbformat": 4,
 "nbformat_minor": 5
}
