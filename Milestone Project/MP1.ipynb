{
 "cells": [
  {
   "cell_type": "code",
   "execution_count": 2,
   "id": "899b975d",
   "metadata": {},
   "outputs": [
    {
     "name": "stdout",
     "output_type": "stream",
     "text": [
      "a\n"
     ]
    }
   ],
   "source": [
    "a = input()\n",
    "print(a)"
   ]
  },
  {
   "cell_type": "code",
   "execution_count": 7,
   "id": "8d338a98",
   "metadata": {},
   "outputs": [],
   "source": [
    "result = int(input(\"Enter a number: \"))"
   ]
  },
  {
   "cell_type": "code",
   "execution_count": 8,
   "id": "8ba841b8",
   "metadata": {},
   "outputs": [
    {
     "data": {
      "text/plain": [
       "8"
      ]
     },
     "execution_count": 8,
     "metadata": {},
     "output_type": "execute_result"
    }
   ],
   "source": [
    "result"
   ]
  },
  {
   "cell_type": "code",
   "execution_count": 4,
   "id": "f3624584",
   "metadata": {},
   "outputs": [],
   "source": [
    "def user_choice():\n",
    "    choice = input(\"Enter choice(0-10): \")\n",
    "    return (choice)"
   ]
  },
  {
   "cell_type": "code",
   "execution_count": 1,
   "id": "c60173a5",
   "metadata": {},
   "outputs": [
    {
     "ename": "NameError",
     "evalue": "name 'user_choice' is not defined",
     "output_type": "error",
     "traceback": [
      "\u001b[31m---------------------------------------------------------------------------\u001b[39m",
      "\u001b[31mNameError\u001b[39m                                 Traceback (most recent call last)",
      "\u001b[36mCell\u001b[39m\u001b[36m \u001b[39m\u001b[32mIn[1]\u001b[39m\u001b[32m, line 1\u001b[39m\n\u001b[32m----> \u001b[39m\u001b[32m1\u001b[39m \u001b[38;5;28;01mif\u001b[39;00m \u001b[43muser_choice\u001b[49m().isdigit():\n\u001b[32m      2\u001b[39m     \u001b[38;5;28mprint\u001b[39m(\u001b[33m\"\u001b[39m\u001b[33mnumber\u001b[39m\u001b[33m\"\u001b[39m)\n\u001b[32m      3\u001b[39m \u001b[38;5;28;01melse\u001b[39;00m:\n",
      "\u001b[31mNameError\u001b[39m: name 'user_choice' is not defined"
     ]
    }
   ],
   "source": [
    "if user_choice().isdigit():\n",
    "    print(\"number\")\n",
    "else:\n",
    "    print(\"not a number\")  "
   ]
  },
  {
   "cell_type": "code",
   "execution_count": 4,
   "id": "8ad4c16a",
   "metadata": {},
   "outputs": [],
   "source": [
    "def user_choice():\n",
    "    choice ='WRONG'\n",
    "    values = [i for i in range(1,11)]\n",
    "    within_range = False\n",
    "    while choice.isdigit() == False or within_range == False:\n",
    "        choice = input(\"Enter a number(0-10): \")\n",
    "        if choice.isdigit() == False:\n",
    "            print(\"Not a number\")\n",
    "        if choice.isdigit() == True:\n",
    "            if int(choice) in values:\n",
    "                within_range = True\n",
    "            else:   \n",
    "                print(\"Out of range\")\n",
    "                within_range = False\n",
    "    return int(choice)"
   ]
  },
  {
   "cell_type": "code",
   "execution_count": 5,
   "id": "b6d3a594",
   "metadata": {},
   "outputs": [
    {
     "name": "stdout",
     "output_type": "stream",
     "text": [
      "Out of range\n"
     ]
    },
    {
     "data": {
      "text/plain": [
       "1"
      ]
     },
     "execution_count": 5,
     "metadata": {},
     "output_type": "execute_result"
    }
   ],
   "source": [
    "user_choice()"
   ]
  },
  {
   "cell_type": "code",
   "execution_count": 6,
   "id": "2e81cc3c",
   "metadata": {},
   "outputs": [],
   "source": [
    "game_list = [0,1,2]"
   ]
  },
  {
   "cell_type": "code",
   "execution_count": 8,
   "id": "ebdca5f3",
   "metadata": {},
   "outputs": [],
   "source": [
    "def display_game(game_list):\n",
    "    print(\"Game:  \")\n",
    "    print(game_list)"
   ]
  },
  {
   "cell_type": "code",
   "execution_count": 10,
   "id": "d93dce52",
   "metadata": {},
   "outputs": [],
   "source": [
    "def user_choice():\n",
    "    choice ='WRONG'\n",
    "    values = [0,1,2]\n",
    "    within_range = False\n",
    "    while choice not in ['0','1','2']:\n",
    "        choice = input(\"Enter a number(0-2): \")\n",
    "        if choice not in ['0','1','2']:\n",
    "            print(\"Invalid choice\")\n",
    "        # if choice.isdigit() == True:\n",
    "        #     if int(choice) in values:\n",
    "        #         within_range = True\n",
    "        #     else:   \n",
    "        #         print(\"Out of range\")\n",
    "        #         within_range = False\n",
    "    return int(choice)"
   ]
  },
  {
   "cell_type": "code",
   "execution_count": 31,
   "id": "72fb3159",
   "metadata": {},
   "outputs": [],
   "source": [
    "def replacement(game_list,position):\n",
    "    user_placement = input(\"type a value where you want to replace: \")\n",
    "    game_list[position] = user_placement\n",
    "    return game_list"
   ]
  },
  {
   "cell_type": "code",
   "execution_count": 20,
   "id": "6a04db95",
   "metadata": {},
   "outputs": [],
   "source": [
    "def game_on_choice():\n",
    "    choice ='WRONG'\n",
    "    values = ['Y','N']\n",
    "    within_range = False\n",
    "    while choice not in values:\n",
    "        choice = input(\"Enter 'Y' if you want to keep playing : \")\n",
    "        if choice not in values:\n",
    "            print(\"Invalid choice\")\n",
    "        # if choice.isdigit() == True:\n",
    "        #     if int(choice) in values:\n",
    "        #         within_range = True\n",
    "        #     else:   \n",
    "        #         print(\"Out of range\")\n",
    "        #         within_range = False\n",
    "    if choice == 'Y':\n",
    "        return True\n",
    "    else:\n",
    "        return False"
   ]
  },
  {
   "cell_type": "code",
   "execution_count": 23,
   "id": "e019b39b",
   "metadata": {},
   "outputs": [
    {
     "name": "stdout",
     "output_type": "stream",
     "text": [
      "Invalid choice\n",
      "Invalid choice\n",
      "Invalid choice\n"
     ]
    },
    {
     "data": {
      "text/plain": [
       "True"
      ]
     },
     "execution_count": 23,
     "metadata": {},
     "output_type": "execute_result"
    }
   ],
   "source": [
    "game_on_choice()"
   ]
  },
  {
   "cell_type": "code",
   "execution_count": 32,
   "id": "7b45098a",
   "metadata": {},
   "outputs": [
    {
     "name": "stdout",
     "output_type": "stream",
     "text": [
      "Game:  \n",
      "[0, 1, 2]\n",
      "Game:  \n",
      "[0, 1, 'asdasd']\n"
     ]
    }
   ],
   "source": [
    "game_on = True\n",
    "game_list = [0,1,2]\n",
    "\n",
    "while game_on:\n",
    "    display_game(game_list)\n",
    "    position = user_choice()\n",
    "    game_list = replacement(game_list, position)\n",
    "    display_game(game_list)\n",
    "    game_on = game_on_choice()"
   ]
  },
  {
   "cell_type": "code",
   "execution_count": null,
   "id": "535415b8",
   "metadata": {},
   "outputs": [],
   "source": []
  }
 ],
 "metadata": {
  "kernelspec": {
   "display_name": "Python 3",
   "language": "python",
   "name": "python3"
  },
  "language_info": {
   "codemirror_mode": {
    "name": "ipython",
    "version": 3
   },
   "file_extension": ".py",
   "mimetype": "text/x-python",
   "name": "python",
   "nbconvert_exporter": "python",
   "pygments_lexer": "ipython3",
   "version": "3.13.0"
  }
 },
 "nbformat": 4,
 "nbformat_minor": 5
}
