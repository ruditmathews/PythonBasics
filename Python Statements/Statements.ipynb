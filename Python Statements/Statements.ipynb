{
 "cells": [
  {
   "cell_type": "markdown",
   "id": "9f6c45dd",
   "metadata": {},
   "source": [
    "Control flow statements"
   ]
  },
  {
   "cell_type": "markdown",
   "id": "ed8322ba",
   "metadata": {},
   "source": []
  },
  {
   "cell_type": "code",
   "execution_count": 3,
   "id": "142c77a6",
   "metadata": {},
   "outputs": [
    {
     "name": "stdout",
     "output_type": "stream",
     "text": [
      "Goodbye World\n"
     ]
    }
   ],
   "source": [
    "if 1>2:\n",
    "    print(\"Hello World\")\n",
    "else:\n",
    "    print(\"Goodbye World\")    "
   ]
  },
  {
   "cell_type": "code",
   "execution_count": 5,
   "id": "8998e088",
   "metadata": {},
   "outputs": [
    {
     "name": "stdout",
     "output_type": "stream",
     "text": [
      "1 is odd\n",
      "2 is even\n",
      "3 is odd\n",
      "4 is even\n",
      "5 is odd\n"
     ]
    }
   ],
   "source": [
    "lst = [1,2,3,4,5]\n",
    "for i in lst:\n",
    "    if i % 2 == 0:\n",
    "        print(f\"{i} is even\")   \n",
    "    elif i % 2 != 0:\n",
    "        print(f\"{i} is odd\")\n",
    "    else:\n",
    "        print(\"Something went wrong\")"
   ]
  },
  {
   "cell_type": "code",
   "execution_count": 21,
   "id": "e9867f87",
   "metadata": {},
   "outputs": [
    {
     "name": "stdout",
     "output_type": "stream",
     "text": [
      "  * * * * * * * * *\n",
      "   * * * * * * * *\n",
      "    * * * * * * *\n",
      "     * * * * * *\n",
      "      * * * * *\n",
      "       * * * *\n",
      "        * * *\n",
      "         * *\n",
      "          *\n",
      "          *\n",
      "         * *\n",
      "        * * *\n",
      "       * * * *\n",
      "      * * * * *\n",
      "     * * * * * *\n",
      "    * * * * * * *\n",
      "   * * * * * * * *\n",
      "  * * * * * * * * *\n"
     ]
    }
   ],
   "source": [
    "for i in range(1,10):\n",
    "    print((i*' ')+(10-i)*' *')\n",
    "for i in range(1,10):\n",
    "    print((10-i)*' '+(i)*' *')"
   ]
  },
  {
   "cell_type": "code",
   "execution_count": null,
   "id": "2ffa290c",
   "metadata": {},
   "outputs": [
    {
     "name": "stdout",
     "output_type": "stream",
     "text": [
      "value1\n",
      "value2\n"
     ]
    }
   ],
   "source": [
    "d = {'key1': 'value1', 'key2': 'value2'}\n",
    "for key,value in d.items():\n",
    "    print(value)"
   ]
  },
  {
   "cell_type": "code",
   "execution_count": 15,
   "id": "bf48db15",
   "metadata": {},
   "outputs": [
    {
     "name": "stdout",
     "output_type": "stream",
     "text": [
      "The current value of x is 1\n",
      "The current value of x is 2\n",
      "The current value of x is 3\n",
      "The current value of x is 4\n",
      "The current value of x is 5\n",
      "The current value of x is 6\n",
      "The current value of x is 7\n",
      "The current value of x is 8\n",
      "The current value of x is 9\n",
      "The current value of x is 10\n",
      "x is no longer less than 10\n"
     ]
    }
   ],
   "source": [
    "x = 0\n",
    "while x < 10:\n",
    "    \n",
    "    x += 1\n",
    "    if x == 3:\n",
    "        pass\n",
    "    print(f\"The current value of x is {x}\")\n",
    "else:\n",
    "    print(\"x is no longer less than 10\")"
   ]
  },
  {
   "cell_type": "code",
   "execution_count": 17,
   "id": "c779a7e9",
   "metadata": {},
   "outputs": [
    {
     "name": "stdout",
     "output_type": "stream",
     "text": [
      "At index 0 the letter is a\n",
      "At index 1 the letter is b\n",
      "At index 2 the letter is c\n",
      "At index 3 the letter is d\n",
      "At index 4 the letter is e\n"
     ]
    }
   ],
   "source": [
    "index_count = 0\n",
    "for letter in 'abcde':\n",
    "    print(f\"At index {index_count} the letter is {letter}\")\n",
    "    index_count += 1"
   ]
  },
  {
   "cell_type": "code",
   "execution_count": 20,
   "id": "623efa03",
   "metadata": {},
   "outputs": [
    {
     "name": "stdout",
     "output_type": "stream",
     "text": [
      "2 h\n",
      "3 e\n",
      "4 l\n",
      "5 l\n",
      "6 o\n"
     ]
    }
   ],
   "source": [
    "word = \"hello\"\n",
    "for i,l in enumerate(word,start=2):\n",
    "    print(i,l)"
   ]
  },
  {
   "cell_type": "code",
   "execution_count": 22,
   "id": "caef1535",
   "metadata": {},
   "outputs": [
    {
     "name": "stdout",
     "output_type": "stream",
     "text": [
      "1 6\n",
      "2 7\n",
      "3 8\n"
     ]
    }
   ],
   "source": [
    "lst1= [1,2,3,4,5]\n",
    "lst2 = [6,7,8]\n",
    "for i,j in zip(lst1,lst2):\n",
    "    print(i,j) "
   ]
  },
  {
   "cell_type": "code",
   "execution_count": 23,
   "id": "3aab8985",
   "metadata": {},
   "outputs": [
    {
     "name": "stdout",
     "output_type": "stream",
     "text": [
      "['H', 'e', 'l', 'l', 'o', ' ', 'W', 'o', 'r', 'l', 'd']\n"
     ]
    }
   ],
   "source": [
    "mystring = \"Hello World\"\n",
    "mylist = []\n",
    "for letter in mystring:\n",
    "    mylist.append(letter)\n",
    "print(mylist)"
   ]
  },
  {
   "cell_type": "code",
   "execution_count": 29,
   "id": "0231c114",
   "metadata": {},
   "outputs": [
    {
     "data": {
      "text/plain": [
       "['H', 'e', 'l', 'l', 'o', 'W', 'o', 'r', 'l', 'd']"
      ]
     },
     "execution_count": 29,
     "metadata": {},
     "output_type": "execute_result"
    }
   ],
   "source": [
    "mylist2 = [i for i in mystring if i !=' ']\n",
    "mylist2"
   ]
  },
  {
   "cell_type": "code",
   "execution_count": 37,
   "id": "0b462473",
   "metadata": {},
   "outputs": [
    {
     "data": {
      "text/plain": [
       "[0, 1, 4, 3, 16, 5, 36, 7, 64, 9, 100]"
      ]
     },
     "execution_count": 37,
     "metadata": {},
     "output_type": "execute_result"
    }
   ],
   "source": [
    "mylist3 = [i*i if i % 2 == 0 else i for i in range(0,11) ]\n",
    "mylist3"
   ]
  },
  {
   "cell_type": "code",
   "execution_count": 35,
   "id": "4714ff88",
   "metadata": {},
   "outputs": [
    {
     "data": {
      "text/plain": [
       "[32.0, 50.0, 68.18, 94.1]"
      ]
     },
     "execution_count": 35,
     "metadata": {},
     "output_type": "execute_result"
    }
   ],
   "source": [
    "celsius = [0, 10, 20.1, 34.5]\n",
    "fahrenheit = [((9/5)*temp + 32) for temp in celsius]\n",
    "fahrenheit"
   ]
  },
  {
   "cell_type": "code",
   "execution_count": 38,
   "id": "d981e9fe",
   "metadata": {},
   "outputs": [
    {
     "data": {
      "text/plain": [
       "[200, 400, 600, 400, 800, 1200, 600, 1200, 1800]"
      ]
     },
     "execution_count": 38,
     "metadata": {},
     "output_type": "execute_result"
    }
   ],
   "source": [
    "lst = [x*y for x in [2,4,6] for y in [100,200,300]]\n",
    "lst \n"
   ]
  },
  {
   "cell_type": "code",
   "execution_count": null,
   "id": "1369797c",
   "metadata": {},
   "outputs": [],
   "source": []
  }
 ],
 "metadata": {
  "kernelspec": {
   "display_name": "Python 3",
   "language": "python",
   "name": "python3"
  },
  "language_info": {
   "codemirror_mode": {
    "name": "ipython",
    "version": 3
   },
   "file_extension": ".py",
   "mimetype": "text/x-python",
   "name": "python",
   "nbconvert_exporter": "python",
   "pygments_lexer": "ipython3",
   "version": "3.13.0"
  }
 },
 "nbformat": 4,
 "nbformat_minor": 5
}
